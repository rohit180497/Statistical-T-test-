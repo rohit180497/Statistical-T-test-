{
 "cells": [
  {
   "cell_type": "markdown",
   "id": "39c34265-f4e1-4e6e-beb1-4db114396d83",
   "metadata": {},
   "source": [
    "<BR>\n",
    "<CENTER>\n",
    "<FONT SIZE = 4, COLOR=\"#2C32C3\">\n",
    "<BR><B>Northeastern University</B>\n",
    "<BR>\n",
    "ALY6010 Probability Theory & Intro Stats</B>\n",
    " <BR> Part 1: Two-sample t-test with unequal variance\n",
    " <BR> Part 2: Paired t-test\n",
    "<BR> Module 4 - Practice R  \n",
    "<BR><font size=4, color=dark red> Date: 03.17.2024\n",
    "</FONT>\n",
    "</CENTER>\n"
   ]
  },
  {
   "cell_type": "markdown",
   "id": "e60f5059-039e-4986-aa92-7ccd236b2c87",
   "metadata": {},
   "source": [
    "### Part 1 : Two-sample t-test with unequal variance\n",
    "\n",
    "Question: Do male and female cat samples have the same bodyweight (“Bwt”)?\n",
    "\n",
    "Significance Level: 0.05"
   ]
  },
  {
   "cell_type": "code",
   "execution_count": 5,
   "id": "c56a910c-1dce-4e20-949b-2840252dbb1c",
   "metadata": {},
   "outputs": [],
   "source": [
    "# Importing library\n",
    "library(MASS)"
   ]
  },
  {
   "cell_type": "code",
   "execution_count": 7,
   "id": "74155080-a86a-4d39-a82f-9a7548af5b49",
   "metadata": {},
   "outputs": [
    {
     "data": {
      "text/html": [
       "<table class=\"dataframe\">\n",
       "<caption>A data.frame: 6 × 3</caption>\n",
       "<thead>\n",
       "\t<tr><th></th><th scope=col>Sex</th><th scope=col>Bwt</th><th scope=col>Hwt</th></tr>\n",
       "\t<tr><th></th><th scope=col>&lt;fct&gt;</th><th scope=col>&lt;dbl&gt;</th><th scope=col>&lt;dbl&gt;</th></tr>\n",
       "</thead>\n",
       "<tbody>\n",
       "\t<tr><th scope=row>1</th><td>F</td><td>2.0</td><td>7.0</td></tr>\n",
       "\t<tr><th scope=row>2</th><td>F</td><td>2.0</td><td>7.4</td></tr>\n",
       "\t<tr><th scope=row>3</th><td>F</td><td>2.0</td><td>9.5</td></tr>\n",
       "\t<tr><th scope=row>4</th><td>F</td><td>2.1</td><td>7.2</td></tr>\n",
       "\t<tr><th scope=row>5</th><td>F</td><td>2.1</td><td>7.3</td></tr>\n",
       "\t<tr><th scope=row>6</th><td>F</td><td>2.1</td><td>7.6</td></tr>\n",
       "</tbody>\n",
       "</table>\n"
      ],
      "text/latex": [
       "A data.frame: 6 × 3\n",
       "\\begin{tabular}{r|lll}\n",
       "  & Sex & Bwt & Hwt\\\\\n",
       "  & <fct> & <dbl> & <dbl>\\\\\n",
       "\\hline\n",
       "\t1 & F & 2.0 & 7.0\\\\\n",
       "\t2 & F & 2.0 & 7.4\\\\\n",
       "\t3 & F & 2.0 & 9.5\\\\\n",
       "\t4 & F & 2.1 & 7.2\\\\\n",
       "\t5 & F & 2.1 & 7.3\\\\\n",
       "\t6 & F & 2.1 & 7.6\\\\\n",
       "\\end{tabular}\n"
      ],
      "text/markdown": [
       "\n",
       "A data.frame: 6 × 3\n",
       "\n",
       "| <!--/--> | Sex &lt;fct&gt; | Bwt &lt;dbl&gt; | Hwt &lt;dbl&gt; |\n",
       "|---|---|---|---|\n",
       "| 1 | F | 2.0 | 7.0 |\n",
       "| 2 | F | 2.0 | 7.4 |\n",
       "| 3 | F | 2.0 | 9.5 |\n",
       "| 4 | F | 2.1 | 7.2 |\n",
       "| 5 | F | 2.1 | 7.3 |\n",
       "| 6 | F | 2.1 | 7.6 |\n",
       "\n"
      ],
      "text/plain": [
       "  Sex Bwt Hwt\n",
       "1 F   2.0 7.0\n",
       "2 F   2.0 7.4\n",
       "3 F   2.0 9.5\n",
       "4 F   2.1 7.2\n",
       "5 F   2.1 7.3\n",
       "6 F   2.1 7.6"
      ]
     },
     "metadata": {},
     "output_type": "display_data"
    }
   ],
   "source": [
    "# let's save cats in dataframe df\n",
    "df <- cats\n",
    "head(df)"
   ]
  },
  {
   "cell_type": "code",
   "execution_count": 8,
   "id": "3fad2c56-6454-4fb8-8db3-4c16716f5039",
   "metadata": {},
   "outputs": [],
   "source": [
    "# Let's separate male & females from df\n",
    "male <- subset(df, subset = (Sex == \"M\"))\n",
    "female <- subset(df, subset = (Sex == \"F\"))"
   ]
  },
  {
   "cell_type": "markdown",
   "id": "e8b2fbfa-6b0c-4275-af5a-5b60eafc6a0d",
   "metadata": {},
   "source": [
    "#### Let's state hypothesis for the test\n",
    "Null Hypothesis (H0): The mean body weight of male cats is equal to the mean body weight of female cats.\n",
    "\n",
    "Alternative Hypothesis (H1): The mean body weight of male cats is not equal to the mean body weight of female cats.\n",
    "\n",
    "H0: μmale = μfemale ;\n",
    "H1: μmale != μfemale"
   ]
  },
  {
   "cell_type": "code",
   "execution_count": 9,
   "id": "e8564c63-77f7-44a2-9b26-dc2e2c9f7beb",
   "metadata": {},
   "outputs": [],
   "source": [
    "# Let's perfrom t-test\n",
    "t_test <- t.test(male$Bwt, female$Bwt)"
   ]
  },
  {
   "cell_type": "code",
   "execution_count": 10,
   "id": "3c155d09-ed64-4be8-b076-461d2def7b0a",
   "metadata": {},
   "outputs": [
    {
     "data": {
      "text/plain": [
       "\n",
       "\tWelch Two Sample t-test\n",
       "\n",
       "data:  male$Bwt and female$Bwt\n",
       "t = 8.7095, df = 136.84, p-value = 8.831e-15\n",
       "alternative hypothesis: true difference in means is not equal to 0\n",
       "95 percent confidence interval:\n",
       " 0.4177242 0.6631268\n",
       "sample estimates:\n",
       "mean of x mean of y \n",
       " 2.900000  2.359574 \n"
      ]
     },
     "metadata": {},
     "output_type": "display_data"
    }
   ],
   "source": [
    "t_test"
   ]
  },
  {
   "cell_type": "markdown",
   "id": "1278bc71-3a94-49ee-b72a-ce74bf7dcf0a",
   "metadata": {},
   "source": [
    "**Test Interpretation:** \n",
    "\n",
    "Since the p-value is extremely small (much smaller than the significance level of 0.05), we reject the null hypothesis. This indicates strong evidence against the idea that the mean body weights of male and female cats are equal.\n",
    "The 95% confidence interval for the difference in means does not include 0, supporting the conclusion that there is a statistically significant difference in the mean body weights of male and female cats."
   ]
  },
  {
   "cell_type": "markdown",
   "id": "6a59dfd3-f578-4286-b037-306b1c6ed2dc",
   "metadata": {},
   "source": [
    "### Part 2 : Paired t-test\n",
    "\n",
    "\r\n",
    "Used to compare the means of two related samples from the same group.\r\n",
    "Data points come from paired observations.\r\n",
    "Often involves taking a single measurement before and after a treatment or intervention on the same subj.\n",
    "0.05"
   ]
  },
  {
   "cell_type": "markdown",
   "id": "0f97e189-aae7-4b05-868c-1fa32e297eb7",
   "metadata": {},
   "source": [
    "**Question:** To evaluate whether meditation has an effect on sleep quality, 10 students were recruited for a meditation workshop. They agreed to wear sleeping evaluators to measure their sleeping quality. The sleeping quality is on the scale 0-10 (the higher the better).\n",
    "\n",
    "whether this should be a paired T test?"
   ]
  },
  {
   "cell_type": "markdown",
   "id": "da022499-4837-43a4-86da-976a68673b21",
   "metadata": {},
   "source": [
    "**Answer:** In this scenario, the appropriate test to perform is a paired t-test. Becuase:\r\n",
    "\r\n",
    "Paired data: The sleep quality scores were measured for the same 10 students before and after the meditation workshop. There's a clear connection between the data points in each pair (same student's sleep quality before and after\n",
    ").\r\n",
    "Not independent groups: The \"before\" and \"after\" measurements are not independent observations. They are related based on being from the same individuals."
   ]
  },
  {
   "cell_type": "code",
   "execution_count": 12,
   "id": "9b47a7f3-9e79-4648-8649-d08e40ad7091",
   "metadata": {},
   "outputs": [],
   "source": [
    "# Let's create 2 vectors based on given information\n",
    "\n",
    "before_workshop <- c(4.6, 7.8, 9.1, 5.6, 6.9, 8.5, 5.3, 7.1, 3.2, 4.4)\n",
    "after_workshop <- c(6.6, 7.7, 9.0, 6.2, 7.8, 8.3, 5.9, 6.5, 5.8, 4.9)"
   ]
  },
  {
   "cell_type": "markdown",
   "id": "91a49131-831f-4f4f-80cc-f5be2a32c6a4",
   "metadata": {},
   "source": [
    "#### Let's state the hypothesis for the test\n",
    "\n",
    "Null Hypothesis (H0): The mean sleeping quality scores before and after the meditation workshop are the same.\n",
    "\n",
    "Alternative Hypothesis (H1): The mean sleeping quality scores after the meditation workshop are higher than before.\n",
    "\n",
    "Significance Level: 0.05"
   ]
  },
  {
   "cell_type": "code",
   "execution_count": 13,
   "id": "9c1c0352-ebb6-438c-9508-bf6df168c441",
   "metadata": {},
   "outputs": [],
   "source": [
    "paired_t_test <- t.test(before_workshop, after_workshop, alternative = \"less\", paired = TRUE)"
   ]
  },
  {
   "cell_type": "code",
   "execution_count": 14,
   "id": "658b3e07-9c15-4df9-8ed9-bf4673ad78c3",
   "metadata": {},
   "outputs": [
    {
     "data": {
      "text/plain": [
       "\n",
       "\tPaired t-test\n",
       "\n",
       "data:  before_workshop and after_workshop\n",
       "t = -1.9481, df = 9, p-value = 0.04161\n",
       "alternative hypothesis: true difference in means is less than 0\n",
       "95 percent confidence interval:\n",
       "        -Inf -0.03659503\n",
       "sample estimates:\n",
       "mean of the differences \n",
       "                  -0.62 \n"
      ]
     },
     "metadata": {},
     "output_type": "display_data"
    }
   ],
   "source": [
    "paired_t_test"
   ]
  },
  {
   "cell_type": "markdown",
   "id": "9a8c324e-5f28-4921-9fec-a2bf87cd6366",
   "metadata": {},
   "source": [
    "**Test Interpretation:**\n",
    "\n",
    "The p-value obtained from the paired t-test is 0.04273, which is less than the significance level (α = 0.05). Therefore, we reject the null hypothesis.\n",
    "This suggests that there is evidence to support the claim that meditation improves sleeping quality.\n"
   ]
  },
  {
   "cell_type": "markdown",
   "id": "c96bc43f-2f47-4c7a-a68f-a54c0826e584",
   "metadata": {},
   "source": [
    "#### Significance Level = 0.1\n",
    "\n",
    "Changing the significance level to 0.1 would not change the conclusion, as the p-value is 0.04 which is still less than 0.1."
   ]
  },
  {
   "cell_type": "code",
   "execution_count": null,
   "id": "df8de4f0-41ce-4363-944c-26d1a0b81790",
   "metadata": {},
   "outputs": [],
   "source": []
  }
 ],
 "metadata": {
  "kernelspec": {
   "display_name": "R",
   "language": "R",
   "name": "ir"
  },
  "language_info": {
   "codemirror_mode": "r",
   "file_extension": ".r",
   "mimetype": "text/x-r-source",
   "name": "R",
   "pygments_lexer": "r",
   "version": "4.1.3"
  }
 },
 "nbformat": 4,
 "nbformat_minor": 5
}
